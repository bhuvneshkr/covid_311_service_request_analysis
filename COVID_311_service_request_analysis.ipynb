{
 "cells": [
  {
   "cell_type": "code",
   "execution_count": 1,
   "metadata": {},
   "outputs": [],
   "source": [
    "import math\n",
    "import pandas as pd\n",
    "import numpy as np\n",
    "import random\n",
    "from matplotlib import pyplot as plt\n",
    "import itertools\n",
    "from scipy import stats"
   ]
  },
  {
   "cell_type": "markdown",
   "metadata": {},
   "source": [
    "# Read Datasets"
   ]
  },
  {
   "cell_type": "markdown",
   "metadata": {},
   "source": [
    "### Covid-19 Dataset - [Kings, New York, Queens] counties of NY state"
   ]
  },
  {
   "cell_type": "code",
   "execution_count": 2,
   "metadata": {},
   "outputs": [
    {
     "name": "stdout",
     "output_type": "stream",
     "text": [
      "(135, 5)\n"
     ]
    },
    {
     "data": {
      "text/html": [
       "<div>\n",
       "<style scoped>\n",
       "    .dataframe tbody tr th:only-of-type {\n",
       "        vertical-align: middle;\n",
       "    }\n",
       "\n",
       "    .dataframe tbody tr th {\n",
       "        vertical-align: top;\n",
       "    }\n",
       "\n",
       "    .dataframe thead th {\n",
       "        text-align: right;\n",
       "    }\n",
       "</style>\n",
       "<table border=\"1\" class=\"dataframe\">\n",
       "  <thead>\n",
       "    <tr style=\"text-align: right;\">\n",
       "      <th></th>\n",
       "      <th>Dates</th>\n",
       "      <th>County</th>\n",
       "      <th>Confirmed_Cases</th>\n",
       "      <th>Confirmed_Deaths</th>\n",
       "      <th>Hospitalized</th>\n",
       "    </tr>\n",
       "  </thead>\n",
       "  <tbody>\n",
       "    <tr>\n",
       "      <th>0</th>\n",
       "      <td>2020-03-24</td>\n",
       "      <td>Kings</td>\n",
       "      <td>4407</td>\n",
       "      <td>42</td>\n",
       "      <td>637</td>\n",
       "    </tr>\n",
       "    <tr>\n",
       "      <th>3</th>\n",
       "      <td>2020-03-25</td>\n",
       "      <td>Kings</td>\n",
       "      <td>5232</td>\n",
       "      <td>64</td>\n",
       "      <td>919</td>\n",
       "    </tr>\n",
       "    <tr>\n",
       "      <th>6</th>\n",
       "      <td>2020-03-26</td>\n",
       "      <td>Kings</td>\n",
       "      <td>6095</td>\n",
       "      <td>81</td>\n",
       "      <td>968</td>\n",
       "    </tr>\n",
       "    <tr>\n",
       "      <th>9</th>\n",
       "      <td>2020-03-27</td>\n",
       "      <td>Kings</td>\n",
       "      <td>7091</td>\n",
       "      <td>102</td>\n",
       "      <td>989</td>\n",
       "    </tr>\n",
       "    <tr>\n",
       "      <th>12</th>\n",
       "      <td>2020-03-28</td>\n",
       "      <td>Kings</td>\n",
       "      <td>8129</td>\n",
       "      <td>167</td>\n",
       "      <td>1372</td>\n",
       "    </tr>\n",
       "  </tbody>\n",
       "</table>\n",
       "</div>"
      ],
      "text/plain": [
       "        Dates County  Confirmed_Cases  Confirmed_Deaths  Hospitalized\n",
       "0  2020-03-24  Kings             4407                42           637\n",
       "3  2020-03-25  Kings             5232                64           919\n",
       "6  2020-03-26  Kings             6095                81           968\n",
       "9  2020-03-27  Kings             7091               102           989\n",
       "12 2020-03-28  Kings             8129               167          1372"
      ]
     },
     "execution_count": 2,
     "metadata": {},
     "output_type": "execute_result"
    }
   ],
   "source": [
    "# Read CSV\n",
    "covid_19_df = pd.read_csv(\".\\\\comb_nyc_covid_19_45_days.csv\")\n",
    "\n",
    "# Convert Dates to pd.DateTime\n",
    "covid_19_df['Dates'] = pd.to_datetime(covid_19_df['Dates'], format=\"%m/%d/%Y\")\n",
    "\n",
    "# Sort by County and Dates\n",
    "covid_19_df = covid_19_df.sort_values(by=['County', 'Dates'])\n",
    "\n",
    "# Shape of the Covid-19 Dataset\n",
    "print(covid_19_df.shape)\n",
    "\n",
    "covid_19_df.head()"
   ]
  },
  {
   "cell_type": "markdown",
   "metadata": {},
   "source": [
    "### X Dataset - 311 service requests - [Kings, New York, Queens] counties of NY state"
   ]
  },
  {
   "cell_type": "code",
   "execution_count": 3,
   "metadata": {},
   "outputs": [
    {
     "name": "stdout",
     "output_type": "stream",
     "text": [
      "(44, 4) (44, 4)\n"
     ]
    }
   ],
   "source": [
    "# Combined Dataset for X\n",
    "\n",
    "# Read CSVs\n",
    "X_19_df = pd.read_csv(\".\\\\sr_311_stats_mar_may_19.csv\")\n",
    "X_20_df = pd.read_csv(\".\\\\sr_311_stats_mar_may_20.csv\")\n",
    "\n",
    "# Convert Dates to pd.DateTime\n",
    "X_19_df['Dates'] = pd.to_datetime(X_19_df['Dates'])\n",
    "X_20_df['Dates'] = pd.to_datetime(X_20_df['Dates'])\n",
    "\n",
    "\n",
    "# Sort by Dates\n",
    "X_19_df = X_19_df.sort_values(by=['Dates'])\n",
    "X_20_df = X_20_df.sort_values(by=['Dates'])\n",
    "\n",
    "# Shape of the X-19 & X-20 Dataset\n",
    "print(X_19_df.shape, X_20_df.shape)"
   ]
  },
  {
   "cell_type": "code",
   "execution_count": 4,
   "metadata": {},
   "outputs": [
    {
     "data": {
      "text/html": [
       "<div>\n",
       "<style scoped>\n",
       "    .dataframe tbody tr th:only-of-type {\n",
       "        vertical-align: middle;\n",
       "    }\n",
       "\n",
       "    .dataframe tbody tr th {\n",
       "        vertical-align: top;\n",
       "    }\n",
       "\n",
       "    .dataframe thead th {\n",
       "        text-align: right;\n",
       "    }\n",
       "</style>\n",
       "<table border=\"1\" class=\"dataframe\">\n",
       "  <thead>\n",
       "    <tr style=\"text-align: right;\">\n",
       "      <th></th>\n",
       "      <th>Dates</th>\n",
       "      <th>Service Requests</th>\n",
       "      <th>Residential Noise Complaints</th>\n",
       "      <th>Parking Complaints</th>\n",
       "    </tr>\n",
       "  </thead>\n",
       "  <tbody>\n",
       "    <tr>\n",
       "      <th>0</th>\n",
       "      <td>2019-03-25</td>\n",
       "      <td>6442</td>\n",
       "      <td>326</td>\n",
       "      <td>751</td>\n",
       "    </tr>\n",
       "    <tr>\n",
       "      <th>1</th>\n",
       "      <td>2019-03-26</td>\n",
       "      <td>6154</td>\n",
       "      <td>312</td>\n",
       "      <td>704</td>\n",
       "    </tr>\n",
       "    <tr>\n",
       "      <th>2</th>\n",
       "      <td>2019-03-27</td>\n",
       "      <td>6185</td>\n",
       "      <td>289</td>\n",
       "      <td>759</td>\n",
       "    </tr>\n",
       "    <tr>\n",
       "      <th>3</th>\n",
       "      <td>2019-03-28</td>\n",
       "      <td>5821</td>\n",
       "      <td>324</td>\n",
       "      <td>777</td>\n",
       "    </tr>\n",
       "    <tr>\n",
       "      <th>4</th>\n",
       "      <td>2019-03-29</td>\n",
       "      <td>5842</td>\n",
       "      <td>445</td>\n",
       "      <td>768</td>\n",
       "    </tr>\n",
       "  </tbody>\n",
       "</table>\n",
       "</div>"
      ],
      "text/plain": [
       "       Dates  Service Requests  Residential Noise Complaints  \\\n",
       "0 2019-03-25              6442                           326   \n",
       "1 2019-03-26              6154                           312   \n",
       "2 2019-03-27              6185                           289   \n",
       "3 2019-03-28              5821                           324   \n",
       "4 2019-03-29              5842                           445   \n",
       "\n",
       "   Parking Complaints  \n",
       "0                 751  \n",
       "1                 704  \n",
       "2                 759  \n",
       "3                 777  \n",
       "4                 768  "
      ]
     },
     "execution_count": 4,
     "metadata": {},
     "output_type": "execute_result"
    }
   ],
   "source": [
    "X_19_df.head()"
   ]
  },
  {
   "cell_type": "markdown",
   "metadata": {},
   "source": [
    "# Data Cleaning"
   ]
  },
  {
   "cell_type": "code",
   "execution_count": 15,
   "metadata": {},
   "outputs": [],
   "source": [
    "counties = [\"Kings\", \"New York\", \"Queens\"]\n",
    "covid_feature_columns = [\"Confirmed_Cases\", \"Confirmed_Deaths\", \"Hospitalized\"]\n",
    "x_feature_columns = [\"Service Requests\", \"Residential Noise Complaints\", \"Parking Complaints\"]"
   ]
  },
  {
   "cell_type": "markdown",
   "metadata": {},
   "source": [
    "#### Covid-19 Dataset"
   ]
  },
  {
   "cell_type": "markdown",
   "metadata": {},
   "source": [
    "#### Convert cummulative data to accumulative data for [Confirmed_Cases, Confirmed_Deaths] columns of Covid-19 dataset"
   ]
  },
  {
   "cell_type": "code",
   "execution_count": 6,
   "metadata": {},
   "outputs": [
    {
     "data": {
      "text/plain": [
       "(132, 5)"
      ]
     },
     "execution_count": 6,
     "metadata": {},
     "output_type": "execute_result"
    }
   ],
   "source": [
    "# Converting from cummulative data to daily increase\n",
    "def get_daily_numbers(A):\n",
    "    B = [0] + A.copy()[:-1]\n",
    "    return [0] + [A[i] - B[i] for i in range(1, len(A))]\n",
    "\n",
    "conf_cases_daily_list = []\n",
    "conf_deaths_daily_list = []\n",
    "for county in counties:\n",
    "    sub_df = covid_19_df[covid_19_df[\"County\"]==county]\n",
    "    conf_cases_daily_list.extend(get_daily_numbers(sub_df[\"Confirmed_Cases\"].tolist()))\n",
    "    conf_deaths_daily_list.extend(get_daily_numbers(sub_df[\"Confirmed_Deaths\"].tolist()))\n",
    "covid_19_df['Confirmed_Cases'] = conf_cases_daily_list\n",
    "covid_19_df['Confirmed_Deaths'] = conf_deaths_daily_list\n",
    "\n",
    "# Remove the initial date since it's daily increase is unkown\n",
    "covid_19_df.drop(covid_19_df[covid_19_df['Dates'] == \"2020-03-24\"].index, inplace = True)\n",
    "\n",
    "# Print the shape\n",
    "covid_19_df.shape"
   ]
  },
  {
   "cell_type": "markdown",
   "metadata": {},
   "source": [
    "### Outlier Detection - Tukey's Rule"
   ]
  },
  {
   "cell_type": "code",
   "execution_count": 14,
   "metadata": {},
   "outputs": [],
   "source": [
    "def get_outliers(df, alpha, feature_columns):\n",
    "    iqr_cols = []\n",
    "    for col in feature_columns:\n",
    "        X = df[col].tolist()\n",
    "        X.sort()\n",
    "        Q1 = int(X[math.ceil((25/100)*len(X)) - 1])\n",
    "        Q3 = int(X[math.ceil((75/100)*len(X)) - 1])\n",
    "        IQR = Q3 - Q1\n",
    "        df[col + \"_is_outlier\"] = df[col].apply(lambda ele: (ele > Q3 + alpha * IQR) or (ele < Q1 - alpha * IQR))\n",
    "        iqr_cols.append(col + \"_is_outlier\")\n",
    "    outlier_vals = df[iqr_cols].any(axis='columns').tolist()\n",
    "    print(\"Percentage of outliers: \", (sum([1 for bool in outlier_vals if bool])/len(outlier_vals))*100)\n",
    "    return outlier_vals"
   ]
  },
  {
   "cell_type": "markdown",
   "metadata": {},
   "source": [
    "#### Covid-19 Dataset"
   ]
  },
  {
   "cell_type": "code",
   "execution_count": 23,
   "metadata": {},
   "outputs": [
    {
     "name": "stdout",
     "output_type": "stream",
     "text": [
      "County:  Kings\n",
      "Percentage of outliers:  4.545454545454546\n",
      "County:  New York\n",
      "Percentage of outliers:  4.545454545454546\n",
      "County:  Queens\n",
      "Percentage of outliers:  4.545454545454546\n",
      "\n",
      "Outliers are: \n"
     ]
    },
    {
     "data": {
      "text/html": [
       "<div>\n",
       "<style scoped>\n",
       "    .dataframe tbody tr th:only-of-type {\n",
       "        vertical-align: middle;\n",
       "    }\n",
       "\n",
       "    .dataframe tbody tr th {\n",
       "        vertical-align: top;\n",
       "    }\n",
       "\n",
       "    .dataframe thead th {\n",
       "        text-align: right;\n",
       "    }\n",
       "</style>\n",
       "<table border=\"1\" class=\"dataframe\">\n",
       "  <thead>\n",
       "    <tr style=\"text-align: right;\">\n",
       "      <th></th>\n",
       "      <th>Dates</th>\n",
       "      <th>County</th>\n",
       "      <th>Confirmed_Cases</th>\n",
       "      <th>Confirmed_Deaths</th>\n",
       "      <th>Hospitalized</th>\n",
       "      <th>is_outlier</th>\n",
       "    </tr>\n",
       "  </thead>\n",
       "  <tbody>\n",
       "    <tr>\n",
       "      <th>45</th>\n",
       "      <td>2020-04-08</td>\n",
       "      <td>Kings</td>\n",
       "      <td>1345</td>\n",
       "      <td>239</td>\n",
       "      <td>5114</td>\n",
       "      <td>True</td>\n",
       "    </tr>\n",
       "    <tr>\n",
       "      <th>66</th>\n",
       "      <td>2020-04-15</td>\n",
       "      <td>Kings</td>\n",
       "      <td>2029</td>\n",
       "      <td>235</td>\n",
       "      <td>7968</td>\n",
       "      <td>True</td>\n",
       "    </tr>\n",
       "    <tr>\n",
       "      <th>46</th>\n",
       "      <td>2020-04-08</td>\n",
       "      <td>New York</td>\n",
       "      <td>608</td>\n",
       "      <td>113</td>\n",
       "      <td>2809</td>\n",
       "      <td>True</td>\n",
       "    </tr>\n",
       "    <tr>\n",
       "      <th>67</th>\n",
       "      <td>2020-04-15</td>\n",
       "      <td>New York</td>\n",
       "      <td>1351</td>\n",
       "      <td>156</td>\n",
       "      <td>4090</td>\n",
       "      <td>True</td>\n",
       "    </tr>\n",
       "    <tr>\n",
       "      <th>44</th>\n",
       "      <td>2020-04-07</td>\n",
       "      <td>Queens</td>\n",
       "      <td>1726</td>\n",
       "      <td>253</td>\n",
       "      <td>6078</td>\n",
       "      <td>True</td>\n",
       "    </tr>\n",
       "    <tr>\n",
       "      <th>53</th>\n",
       "      <td>2020-04-10</td>\n",
       "      <td>Queens</td>\n",
       "      <td>1995</td>\n",
       "      <td>266</td>\n",
       "      <td>8637</td>\n",
       "      <td>True</td>\n",
       "    </tr>\n",
       "  </tbody>\n",
       "</table>\n",
       "</div>"
      ],
      "text/plain": [
       "        Dates    County  Confirmed_Cases  Confirmed_Deaths  Hospitalized  \\\n",
       "45 2020-04-08     Kings             1345               239          5114   \n",
       "66 2020-04-15     Kings             2029               235          7968   \n",
       "46 2020-04-08  New York              608               113          2809   \n",
       "67 2020-04-15  New York             1351               156          4090   \n",
       "44 2020-04-07    Queens             1726               253          6078   \n",
       "53 2020-04-10    Queens             1995               266          8637   \n",
       "\n",
       "    is_outlier  \n",
       "45        True  \n",
       "66        True  \n",
       "46        True  \n",
       "67        True  \n",
       "44        True  \n",
       "53        True  "
      ]
     },
     "execution_count": 23,
     "metadata": {},
     "output_type": "execute_result"
    }
   ],
   "source": [
    "is_outlier_list = []\n",
    "alpha_value = {\n",
    "    \"Kings\" : 1.6,\n",
    "    \"New York\" : 1.5,\n",
    "    \"Queens\" : 1.5\n",
    "}\n",
    "for county in counties:\n",
    "    print(\"County: \", county)\n",
    "    is_outlier_list.extend(get_outliers(covid_19_df[covid_19_df[\"County\"]==county].copy(), alpha_value[county], covid_feature_columns))\n",
    "covid_19_df[\"is_outlier\"] = is_outlier_list\n",
    "\n",
    "print(\"\\nOutliers are: \")\n",
    "covid_19_df[covid_19_df.is_outlier == True]"
   ]
  },
  {
   "cell_type": "markdown",
   "metadata": {},
   "source": [
    "##### X Dataset"
   ]
  },
  {
   "cell_type": "code",
   "execution_count": 24,
   "metadata": {},
   "outputs": [
    {
     "name": "stdout",
     "output_type": "stream",
     "text": [
      "Percentage of outliers:  2.272727272727273\n",
      "Outliers are: \n"
     ]
    },
    {
     "data": {
      "text/html": [
       "<div>\n",
       "<style scoped>\n",
       "    .dataframe tbody tr th:only-of-type {\n",
       "        vertical-align: middle;\n",
       "    }\n",
       "\n",
       "    .dataframe tbody tr th {\n",
       "        vertical-align: top;\n",
       "    }\n",
       "\n",
       "    .dataframe thead th {\n",
       "        text-align: right;\n",
       "    }\n",
       "</style>\n",
       "<table border=\"1\" class=\"dataframe\">\n",
       "  <thead>\n",
       "    <tr style=\"text-align: right;\">\n",
       "      <th></th>\n",
       "      <th>Dates</th>\n",
       "      <th>Service Requests</th>\n",
       "      <th>Residential Noise Complaints</th>\n",
       "      <th>Parking Complaints</th>\n",
       "      <th>is_outlier</th>\n",
       "    </tr>\n",
       "  </thead>\n",
       "  <tbody>\n",
       "    <tr>\n",
       "      <th>31</th>\n",
       "      <td>2019-04-25</td>\n",
       "      <td>5267</td>\n",
       "      <td>309</td>\n",
       "      <td>473</td>\n",
       "      <td>True</td>\n",
       "    </tr>\n",
       "  </tbody>\n",
       "</table>\n",
       "</div>"
      ],
      "text/plain": [
       "        Dates  Service Requests  Residential Noise Complaints  \\\n",
       "31 2019-04-25              5267                           309   \n",
       "\n",
       "    Parking Complaints  is_outlier  \n",
       "31                 473        True  "
      ]
     },
     "execution_count": 24,
     "metadata": {},
     "output_type": "execute_result"
    }
   ],
   "source": [
    "X_19_df[\"is_outlier\"] = get_outliers(X_19_df.copy(), 1.5, x_feature_columns)\n",
    "\n",
    "print(\"Outliers are: \")\n",
    "X_19_df[X_19_df.is_outlier == True]"
   ]
  },
  {
   "cell_type": "code",
   "execution_count": 25,
   "metadata": {},
   "outputs": [
    {
     "name": "stdout",
     "output_type": "stream",
     "text": [
      "Percentage of outliers:  4.545454545454546\n",
      "Outliers are: \n"
     ]
    },
    {
     "data": {
      "text/html": [
       "<div>\n",
       "<style scoped>\n",
       "    .dataframe tbody tr th:only-of-type {\n",
       "        vertical-align: middle;\n",
       "    }\n",
       "\n",
       "    .dataframe tbody tr th {\n",
       "        vertical-align: top;\n",
       "    }\n",
       "\n",
       "    .dataframe thead th {\n",
       "        text-align: right;\n",
       "    }\n",
       "</style>\n",
       "<table border=\"1\" class=\"dataframe\">\n",
       "  <thead>\n",
       "    <tr style=\"text-align: right;\">\n",
       "      <th></th>\n",
       "      <th>Dates</th>\n",
       "      <th>Service Requests</th>\n",
       "      <th>Residential Noise Complaints</th>\n",
       "      <th>Parking Complaints</th>\n",
       "      <th>is_outlier</th>\n",
       "    </tr>\n",
       "  </thead>\n",
       "  <tbody>\n",
       "    <tr>\n",
       "      <th>38</th>\n",
       "      <td>2019-05-02</td>\n",
       "      <td>6213</td>\n",
       "      <td>356</td>\n",
       "      <td>818</td>\n",
       "      <td>False</td>\n",
       "    </tr>\n",
       "    <tr>\n",
       "      <th>39</th>\n",
       "      <td>2019-05-03</td>\n",
       "      <td>6421</td>\n",
       "      <td>412</td>\n",
       "      <td>871</td>\n",
       "      <td>False</td>\n",
       "    </tr>\n",
       "  </tbody>\n",
       "</table>\n",
       "</div>"
      ],
      "text/plain": [
       "        Dates  Service Requests  Residential Noise Complaints  \\\n",
       "38 2019-05-02              6213                           356   \n",
       "39 2019-05-03              6421                           412   \n",
       "\n",
       "    Parking Complaints  is_outlier  \n",
       "38                 818       False  \n",
       "39                 871       False  "
      ]
     },
     "execution_count": 25,
     "metadata": {},
     "output_type": "execute_result"
    }
   ],
   "source": [
    "X_20_df[\"is_outlier\"] = get_outliers(X_20_df.copy(), 2.0, x_feature_columns)\n",
    "\n",
    "print(\"Outliers are: \")\n",
    "X_19_df[X_20_df.is_outlier == True]"
   ]
  },
  {
   "cell_type": "code",
   "execution_count": 26,
   "metadata": {},
   "outputs": [
    {
     "data": {
      "text/plain": [
       "((126, 5), (44, 4), (44, 4))"
      ]
     },
     "execution_count": 26,
     "metadata": {},
     "output_type": "execute_result"
    }
   ],
   "source": [
    "# Replacing the outliers with zero\n",
    "filtered_covid_19_df = covid_19_df[covid_19_df.is_outlier == False]\n",
    "filtered_covid_19_df = filtered_covid_19_df.drop(columns=[\"is_outlier\"])\n",
    "X_19_df = X_19_df.drop(columns=[\"is_outlier\"])\n",
    "X_20_df = X_20_df.drop(columns=[\"is_outlier\"])\n",
    "filtered_covid_19_df.shape, X_19_df.shape, X_20_df.shape"
   ]
  },
  {
   "cell_type": "code",
   "execution_count": 27,
   "metadata": {},
   "outputs": [
    {
     "data": {
      "text/plain": [
       "(44, 5)"
      ]
     },
     "execution_count": 27,
     "metadata": {},
     "output_type": "execute_result"
    }
   ],
   "source": [
    "# combining data\n",
    "filtered_covid_19_df = covid_19_df.copy()\n",
    "filtered_covid_19_df = filtered_covid_19_df.groupby([\"Dates\"], as_index = False).sum()\n",
    "filtered_covid_19_df.shape"
   ]
  },
  {
   "cell_type": "code",
   "execution_count": 28,
   "metadata": {},
   "outputs": [
    {
     "data": {
      "text/html": [
       "<div>\n",
       "<style scoped>\n",
       "    .dataframe tbody tr th:only-of-type {\n",
       "        vertical-align: middle;\n",
       "    }\n",
       "\n",
       "    .dataframe tbody tr th {\n",
       "        vertical-align: top;\n",
       "    }\n",
       "\n",
       "    .dataframe thead th {\n",
       "        text-align: right;\n",
       "    }\n",
       "</style>\n",
       "<table border=\"1\" class=\"dataframe\">\n",
       "  <thead>\n",
       "    <tr style=\"text-align: right;\">\n",
       "      <th></th>\n",
       "      <th>Dates</th>\n",
       "      <th>Confirmed_Cases</th>\n",
       "      <th>Confirmed_Deaths</th>\n",
       "      <th>Hospitalized</th>\n",
       "      <th>is_outlier</th>\n",
       "    </tr>\n",
       "  </thead>\n",
       "  <tbody>\n",
       "    <tr>\n",
       "      <th>39</th>\n",
       "      <td>2020-05-03</td>\n",
       "      <td>1247</td>\n",
       "      <td>155</td>\n",
       "      <td>31110</td>\n",
       "      <td>0.0</td>\n",
       "    </tr>\n",
       "    <tr>\n",
       "      <th>40</th>\n",
       "      <td>2020-05-04</td>\n",
       "      <td>856</td>\n",
       "      <td>117</td>\n",
       "      <td>31349</td>\n",
       "      <td>0.0</td>\n",
       "    </tr>\n",
       "    <tr>\n",
       "      <th>41</th>\n",
       "      <td>2020-05-05</td>\n",
       "      <td>1134</td>\n",
       "      <td>156</td>\n",
       "      <td>31561</td>\n",
       "      <td>0.0</td>\n",
       "    </tr>\n",
       "    <tr>\n",
       "      <th>42</th>\n",
       "      <td>2020-05-06</td>\n",
       "      <td>1061</td>\n",
       "      <td>174</td>\n",
       "      <td>31590</td>\n",
       "      <td>0.0</td>\n",
       "    </tr>\n",
       "    <tr>\n",
       "      <th>43</th>\n",
       "      <td>2020-05-07</td>\n",
       "      <td>1035</td>\n",
       "      <td>175</td>\n",
       "      <td>31716</td>\n",
       "      <td>0.0</td>\n",
       "    </tr>\n",
       "  </tbody>\n",
       "</table>\n",
       "</div>"
      ],
      "text/plain": [
       "        Dates  Confirmed_Cases  Confirmed_Deaths  Hospitalized  is_outlier\n",
       "39 2020-05-03             1247               155         31110         0.0\n",
       "40 2020-05-04              856               117         31349         0.0\n",
       "41 2020-05-05             1134               156         31561         0.0\n",
       "42 2020-05-06             1061               174         31590         0.0\n",
       "43 2020-05-07             1035               175         31716         0.0"
      ]
     },
     "execution_count": 28,
     "metadata": {},
     "output_type": "execute_result"
    }
   ],
   "source": [
    "filtered_covid_19_df.tail()"
   ]
  },
  {
   "cell_type": "markdown",
   "metadata": {},
   "source": [
    "# Visualizing the Data"
   ]
  },
  {
   "cell_type": "markdown",
   "metadata": {},
   "source": [
    "### Covid-19 Dataset & X Dataset Visualizations"
   ]
  },
  {
   "cell_type": "markdown",
   "metadata": {},
   "source": [
    "#### Line Plot"
   ]
  },
  {
   "cell_type": "code",
   "execution_count": 77,
   "metadata": {
    "scrolled": false
   },
   "outputs": [
    {
     "data": {
      "text/plain": [
       "<Figure size 432x288 with 0 Axes>"
      ]
     },
     "metadata": {},
     "output_type": "display_data"
    },
    {
     "data": {
      "image/png": "[encoded data removed]",
      "text/plain": [
       "<Figure size 1080x360 with 1 Axes>"
      ]
     },
     "metadata": {
      "needs_background": "light"
     },
     "output_type": "display_data"
    }
   ],
   "source": [
    "plt.clf()\n",
    "plt.figure(figsize=(15, 5))\n",
    "plt.title('Confirmed Cases line plot')\n",
    "plt.plot(filtered_covid_19_df.Dates, filtered_covid_19_df.Confirmed_Cases ,label='Confirmed Cases')\n",
    "plt.legendb(loc=\"best\")\n",
    "plt.show()"
   ]
  },
  {
   "cell_type": "markdown",
   "metadata": {},
   "source": [
    "##### Observations:\n",
    "The daily cases were up in the initial 2 weeks and post reaching the peak, the daily cases have been dropping."
   ]
  },
  {
   "cell_type": "code",
   "execution_count": 78,
   "metadata": {
    "scrolled": true
   },
   "outputs": [
    {
     "data": {
      "image/png": "[encoded data removed]",
      "text/plain": [
       "<Figure size 1080x360 with 1 Axes>"
      ]
     },
     "metadata": {
      "needs_background": "light"
     },
     "output_type": "display_data"
    }
   ],
   "source": [
    "plt.figure(figsize=(15, 5))\n",
    "plt.title('Confirmed Deaths Line Plot')\n",
    "plt.plot(filtered_covid_19_df.Dates, filtered_covid_19_df.Confirmed_Deaths ,label='Confirmed Deaths')\n",
    "plt.legend(loc=\"best\")\n",
    "plt.show()"
   ]
  },
  {
   "cell_type": "markdown",
   "metadata": {},
   "source": [
    "##### Observations:\n",
    "The daily deaths rose pretty slow initially, but over the period of 2-3 weeks the daily deaths were pretty high and now there's decrease in daily deaths. Indicating that the region is post peak."
   ]
  },
  {
   "cell_type": "code",
   "execution_count": 79,
   "metadata": {
    "scrolled": true
   },
   "outputs": [
    {
     "data": {
      "image/png": "[encoded data removed]",
      "text/plain": [
       "<Figure size 1080x360 with 1 Axes>"
      ]
     },
     "metadata": {
      "needs_background": "light"
     },
     "output_type": "display_data"
    }
   ],
   "source": [
    "plt.figure(figsize=(15, 5))\n",
    "plt.title('Total Hospitalized line plot')\n",
    "plt.plot(filtered_covid_19_df.Dates, filtered_covid_19_df.Hospitalized ,label='Total Hospitalized')\n",
    "plt.legend(loc=\"best\")\n",
    "plt.show()"
   ]
  },
  {
   "cell_type": "markdown",
   "metadata": {},
   "source": [
    "##### Observations:\n",
    "Since the data is total hospitalized on particular date and there's no information on discharged, the hospitalized patients have been increasing even though the daily cases have been dropping. This says much about the severity of the cases have been increasing. "
   ]
  },
  {
   "cell_type": "markdown",
   "metadata": {},
   "source": [
    "#### Bar Plot"
   ]
  },
  {
   "cell_type": "code",
   "execution_count": 81,
   "metadata": {},
   "outputs": [
    {
     "data": {
      "image/png": "[encoded data removed]",
      "text/plain": [
       "<Figure size 1080x360 with 1 Axes>"
      ]
     },
     "metadata": {
      "needs_background": "light"
     },
     "output_type": "display_data"
    }
   ],
   "source": [
    "plt.figure(figsize=(15, 5))\n",
    "plt.title('Total Hospitalized line plot')\n",
    "plt.bar(filtered_covid_19_df.Dates, filtered_covid_19_df.Confirmed_Cases ,label='Cases')\n",
    "plt.bar(filtered_covid_19_df.Dates, filtered_covid_19_df.Confirmed_Deaths ,label='Deaths')\n",
    "plt.legend(loc=\"best\")\n",
    "plt.show()"
   ]
  },
  {
   "cell_type": "markdown",
   "metadata": {},
   "source": [
    "##### Observations\n",
    "1. Here we can see the percentage of deaths being very less compared to the dailiy cases.\n",
    "2. The daily cases are decreasing, but the daily deaths have been consistently getting higher percentage of the daily cases."
   ]
  },
  {
   "cell_type": "markdown",
   "metadata": {},
   "source": [
    "#### Histogram Plot"
   ]
  },
  {
   "cell_type": "code",
   "execution_count": 89,
   "metadata": {},
   "outputs": [
    {
     "data": {
      "image/png": "[encoded data removed]",
      "text/plain": [
       "<Figure size 1080x360 with 1 Axes>"
      ]
     },
     "metadata": {
      "needs_background": "light"
     },
     "output_type": "display_data"
    }
   ],
   "source": [
    "plt.figure(figsize=(15, 5))\n",
    "plt.title('Total Hospitalized line plot')\n",
    "plt.hist(filtered_covid_19_df.Confirmed_Cases, 20, facecolor='green', alpha=0.5)\n",
    "plt.show()"
   ]
  },
  {
   "cell_type": "code",
   "execution_count": 102,
   "metadata": {},
   "outputs": [
    {
     "data": {
      "text/plain": [
       "<Figure size 432x288 with 0 Axes>"
      ]
     },
     "metadata": {},
     "output_type": "display_data"
    },
    {
     "data": {
      "image/png": "[encoded data removed]",
      "text/plain": [
       "<Figure size 1080x360 with 1 Axes>"
      ]
     },
     "metadata": {
      "needs_background": "light"
     },
     "output_type": "display_data"
    }
   ],
   "source": [
    "plt.clf()\n",
    "plt.figure(figsize=(15, 5))\n",
    "plt.title('Confirmed Cases vs Service requests line plot')\n",
    "plt.plot(filtered_covid_19_df.Dates, filtered_covid_19_df.Confirmed_Cases ,label='Confirmed Cases')\n",
    "plt.plot(X_20_df.Dates, X_20_df[\"Service Requests\"] ,label='Service Requests 2020')\n",
    "plt.legend(loc=\"best\")\n",
    "plt.show()"
   ]
  },
  {
   "cell_type": "markdown",
   "metadata": {},
   "source": [
    "##### Observations:\n",
    "1. We can see the the servuce reuests increasing as the cases started dropping."
   ]
  },
  {
   "cell_type": "code",
   "execution_count": 105,
   "metadata": {},
   "outputs": [
    {
     "data": {
      "text/plain": [
       "<Figure size 432x288 with 0 Axes>"
      ]
     },
     "metadata": {},
     "output_type": "display_data"
    },
    {
     "data": {
      "image/png": "[encoded data removed]",
      "text/plain": [
       "<Figure size 1080x360 with 1 Axes>"
      ]
     },
     "metadata": {
      "needs_background": "light"
     },
     "output_type": "display_data"
    }
   ],
   "source": [
    "plt.clf()\n",
    "plt.figure(figsize=(15, 5))\n",
    "plt.title('Service requests 19 vs 20 line plot')\n",
    "plt.plot(X_20_df.Dates, X_19_df[\"Service Requests\"] ,label='Service Requests 2019')\n",
    "plt.plot(X_20_df.Dates, X_20_df[\"Service Requests\"] ,label='Service Requests 2020 during Covid')\n",
    "plt.legend(loc=\"best\")\n",
    "plt.show()"
   ]
  },
  {
   "cell_type": "markdown",
   "metadata": {},
   "source": [
    "##### Observations:\n",
    "1. We can clearly see that the service requests during covid has decreased a lot compared to last year"
   ]
  },
  {
   "cell_type": "markdown",
   "metadata": {},
   "source": [
    "# REQUIRED INFERENCES"
   ]
  },
  {
   "cell_type": "markdown",
   "metadata": {},
   "source": [
    "## Inference 1"
   ]
  },
  {
   "cell_type": "markdown",
   "metadata": {},
   "source": [
    "#### Helper Functions"
   ]
  },
  {
   "cell_type": "markdown",
   "metadata": {},
   "source": [
    "##### EWMA"
   ]
  },
  {
   "cell_type": "code",
   "execution_count": 30,
   "metadata": {},
   "outputs": [],
   "source": [
    "# Calculates the EWMA\n",
    "def get_ewma(y_data, alpha):\n",
    "    # For rolling predictions\n",
    "    week_est = [y_data[0]]\n",
    "    \n",
    "    i = 1\n",
    "    # Predicting for one week\n",
    "    while(i <= 7):\n",
    "        # ith day prediction is added to weekly estimates\n",
    "        week_est.append(round((alpha * y_data[i - 1]) + (1 - alpha) * week_est[i - 1], 4))\n",
    "        i += 1\n",
    "    # returning last one week prediction data\n",
    "    return week_est[1:8]\n",
    "\n",
    "# Calculates the MSE\n",
    "def mse(true_labels, preds):\n",
    "    return round(sum([(true_labels[i] - preds[i])**2 for i in range(len(true_labels))])/len(true_labels), 4)\n",
    "\n",
    "# Calculates the MAPE\n",
    "def mape(true_labels, preds):\n",
    "    return round(sum([(abs(true_labels[i] - preds[i])/true_labels[i])* 100 for i in range(len(true_labels))])/len(true_labels), 4)"
   ]
  },
  {
   "cell_type": "markdown",
   "metadata": {},
   "source": [
    "##### AR"
   ]
  },
  {
   "cell_type": "code",
   "execution_count": 33,
   "metadata": {},
   "outputs": [],
   "source": [
    "# Calculates the beta value using the OLS\n",
    "def get_ar_beta_values(y_data, p):\n",
    "    n = len(y_data)\n",
    "    \n",
    "    # Training Data X\n",
    "    X = []\n",
    "    for i in range(p, n):\n",
    "        X.append([1] + [y_data[i - j] for j in list(range(1, p+1))[::-1]]) \n",
    "    X = np.array(X)\n",
    "    \n",
    "    # True Labels Y\n",
    "    Y = np.asarray(y_data[p:])  \n",
    "    \n",
    "    # Performing the matrix operations to get (X_T * X)^-1 * X_T * Y\n",
    "    X_T_X = np.matmul(np.transpose(X), X)\n",
    "    \n",
    "    # Temp 1 holds the value for (X_T * X)^-1\n",
    "    temp1 = np.linalg.inv(X_T_X)\n",
    "    \n",
    "    # Temp 2 holds the value for X_T * Y\n",
    "    temp2 = np.matmul(np.transpose(X), Y)\n",
    "    \n",
    "    # Final beta values including beta_0\n",
    "    betas = np.matmul(temp1, temp2)\n",
    "    \n",
    "    return betas\n",
    "\n",
    "# Predicts one week data using AR\n",
    "def calc_ar_one_week(y_data, p):\n",
    "    # To store AR estimates\n",
    "    ar_est = []\n",
    "    for i in range(7):\n",
    "        # Calculate betas for every rolling prediction\n",
    "        betas = get_ar_beta_values(y_data[:21+i], p)\n",
    "        week_est = y_data[:21+i].copy()\n",
    "        n = len(week_est)\n",
    "        # Calculates the y_(21+i)_cap value\n",
    "        ar_est.append(betas[0] + sum([betas[j + 1] * week_est[n-j-1] for j in range(p)]))\n",
    "        \n",
    "    # Rounding the estimates to 2 decimal places\n",
    "    ar_est = [round(x, 2) for x in ar_est]\n",
    "    \n",
    "    return ar_est"
   ]
  },
  {
   "cell_type": "code",
   "execution_count": 34,
   "metadata": {
    "scrolled": true
   },
   "outputs": [
    {
     "name": "stdout",
     "output_type": "stream",
     "text": [
      "Predictions of Confirmed Cases\n",
      "\n",
      "\n",
      "--Auto Regression--\n",
      "\n",
      "Predicting next one week cases using AR with p = 3\n",
      "[3064.45, 3521.66, 3268.41, 3064.89, 3363.53, 3227.01, 2865.57]\n",
      "True values of next one week:  [4769, 2860, 2968, 2220, 1818, 1591, 2336]\n",
      "MSE:  1356143.7177\n",
      "MAPE:  45.3669\n",
      "\n",
      "Predicting next one week cases using AR with p = 5\n",
      "[3099.86, 3686.42, 3463.07, 3633.26, 3049.84, 3046.88, 3328.7]\n",
      "True values of next one week:  [4769, 2860, 2968, 2220, 1818, 1591, 2336]\n",
      "MSE:  1476266.5912\n",
      "MAPE:  49.4282\n",
      "\n",
      "--EWMA--\n",
      "\n",
      "Predicting next one week cases using EWMA with alpha = 0.5\n",
      "[3181.0, 2708.0, 2726.0, 2838.0, 2423.5, 3102.25, 2841.625]\n",
      "True values of next one week:  [4769, 2860, 2968, 2220, 1818, 1591, 2336]\n",
      "MSE:  841642.779\n",
      "MAPE:  32.0775\n",
      "\n",
      "Predicting next one week cases using EWMA with alpha = 0.8\n",
      "[3181.0, 2424.2, 2680.04, 2896.008, 2186.4016, 3462.0803, 2757.2161]\n",
      "True values of next one week:  [4769, 2860, 2968, 2220, 1818, 1591, 2336]\n",
      "MSE:  1009379.6641\n",
      "MAPE:  34.9413\n"
     ]
    }
   ],
   "source": [
    "# Predicting Cases\n",
    "print(\"Predictions of Confirmed Cases\\n\")\n",
    "four_weeks_cases_data = filtered_covid_19_df.Confirmed_Cases.tolist()[:28]\n",
    "\n",
    "print(\"\\n--Auto Regression--\\n\")\n",
    "## AR with p = 3\n",
    "preds = calc_ar_one_week(four_weeks_cases_data, 3)\n",
    "print(\"Predicting next one week cases using AR with p = 3\")\n",
    "print(preds)\n",
    "print(\"True values of next one week: \", four_weeks_cases_data[21:])\n",
    "print(\"MSE: \", mse(four_weeks_cases_data[21:], preds))\n",
    "print(\"MAPE: \", mape(four_weeks_cases_data[21:], preds))\n",
    "print()\n",
    "\n",
    "## AR with p = 5\n",
    "preds = calc_ar_one_week(four_weeks_cases_data, 5)\n",
    "print(\"Predicting next one week cases using AR with p = 5\")\n",
    "print(preds)\n",
    "print(\"True values of next one week: \", four_weeks_cases_data[21:])\n",
    "print(\"MSE: \", mse(four_weeks_cases_data[21:], preds))\n",
    "print(\"MAPE: \", mape(four_weeks_cases_data[21:], preds))\n",
    "print()\n",
    "\n",
    "print(\"--EWMA--\\n\")\n",
    "## EWMA with alpha = 0.5\n",
    "preds = get_ewma(four_weeks_cases_data[:21], 0.5)\n",
    "print(\"Predicting next one week cases using EWMA with alpha = 0.5\")\n",
    "print(preds)\n",
    "print(\"True values of next one week: \", four_weeks_cases_data[21:])\n",
    "print(\"MSE: \", mse(four_weeks_cases_data[21:], preds))\n",
    "print(\"MAPE: \", mape(four_weeks_cases_data[21:], preds))\n",
    "print()\n",
    "\n",
    "## EWMA with alpha = 0.8\n",
    "preds = get_ewma(four_weeks_cases_data[:21], 0.8)\n",
    "print(\"Predicting next one week cases using EWMA with alpha = 0.8\")\n",
    "print(preds)\n",
    "print(\"True values of next one week: \", four_weeks_cases_data[21:])\n",
    "print(\"MSE: \", mse(four_weeks_cases_data[21:], preds))\n",
    "print(\"MAPE: \", mape(four_weeks_cases_data[21:], preds))"
   ]
  },
  {
   "cell_type": "code",
   "execution_count": 35,
   "metadata": {},
   "outputs": [
    {
     "name": "stdout",
     "output_type": "stream",
     "text": [
      "Predictions of Confirmed Deaths\n",
      "\n",
      "Predicting next one week deaths using AR with p = 3\n",
      "[281.56, 352.52, 310.15, 369.37, 333.35, 306.08, 279.57]\n",
      "True values of next one week:  [536, 259, 422, 279, 212, 331, 304]\n",
      "MSE:  15729.5025\n",
      "MAPE:  30.7542\n",
      "\n",
      "Predicting next one week deaths using AR with p = 5\n",
      "[398.59, 397.72, 179.32, 386.68, 297.41, 351.83, 355.15]\n",
      "True values of next one week:  [536, 259, 422, 279, 212, 331, 304]\n",
      "MSE:  16994.0558\n",
      "MAPE:  34.1007\n",
      "\n",
      "Predicting next one week deaths using EWMA with alpha = 0.5\n",
      "[66.0, 63.0, 60.0, 110.0, 87.5, 93.25, 109.625]\n",
      "True values of next one week:  [536, 259, 422, 279, 212, 331, 304]\n",
      "MSE:  75532.5647\n",
      "MAPE:  72.0302\n",
      "\n",
      "Predicting next one week deaths using EWMA with alpha = 0.8\n",
      "[66.0, 61.2, 57.84, 139.568, 79.9136, 95.1827, 119.8365]\n",
      "True values of next one week:  [536, 259, 422, 279, 212, 331, 304]\n",
      "MSE:  74150.2056\n",
      "MAPE:  70.6365\n"
     ]
    }
   ],
   "source": [
    "# Predicting Deaths\n",
    "print(\"Predictions of Confirmed Deaths\\n\")\n",
    "four_weeks_deaths_data = filtered_covid_19_df.Confirmed_Deaths.tolist()[:28]\n",
    "\n",
    "## AR with p = 3\n",
    "preds = calc_ar_one_week(four_weeks_deaths_data, 3)\n",
    "print(\"Predicting next one week deaths using AR with p = 3\")\n",
    "print(preds)\n",
    "print(\"True values of next one week: \", four_weeks_deaths_data[21:])\n",
    "print(\"MSE: \", mse(four_weeks_deaths_data[21:], preds))\n",
    "print(\"MAPE: \", mape(four_weeks_deaths_data[21:], preds))\n",
    "print()\n",
    "\n",
    "## AR with p = 5\n",
    "preds = calc_ar_one_week(four_weeks_deaths_data, 5)\n",
    "print(\"Predicting next one week deaths using AR with p = 5\")\n",
    "print(preds)\n",
    "print(\"True values of next one week: \", four_weeks_deaths_data[21:])\n",
    "print(\"MSE: \", mse(four_weeks_deaths_data[21:], preds))\n",
    "print(\"MAPE: \", mape(four_weeks_deaths_data[21:], preds))\n",
    "print()\n",
    "\n",
    "## EWMA with alpha = 0.5\n",
    "preds = get_ewma(four_weeks_deaths_data[:21], 0.5)\n",
    "print(\"Predicting next one week deaths using EWMA with alpha = 0.5\")\n",
    "print(preds)\n",
    "print(\"True values of next one week: \", four_weeks_deaths_data[21:])\n",
    "print(\"MSE: \", mse(four_weeks_deaths_data[21:], preds))\n",
    "print(\"MAPE: \", mape(four_weeks_deaths_data[21:], preds))\n",
    "print()\n",
    "\n",
    "## EWMA with alpha = 0.8\n",
    "preds = get_ewma(four_weeks_deaths_data[:21], 0.8)\n",
    "print(\"Predicting next one week deaths using EWMA with alpha = 0.8\")\n",
    "print(preds)\n",
    "print(\"True values of next one week: \", four_weeks_deaths_data[21:])\n",
    "print(\"MSE: \", mse(four_weeks_deaths_data[21:], preds))\n",
    "print(\"MAPE: \", mape(four_weeks_deaths_data[21:], preds))"
   ]
  },
  {
   "cell_type": "markdown",
   "metadata": {},
   "source": [
    "## Inference 2"
   ]
  },
  {
   "cell_type": "markdown",
   "metadata": {},
   "source": [
    "#### Helper Functions"
   ]
  },
  {
   "cell_type": "markdown",
   "metadata": {},
   "source": [
    "##### Wald's Test"
   ]
  },
  {
   "cell_type": "markdown",
   "metadata": {},
   "source": [
    "###### One - Sample"
   ]
  },
  {
   "cell_type": "code",
   "execution_count": 36,
   "metadata": {},
   "outputs": [],
   "source": [
    "# Calculates one-sample wald's statistics value\n",
    "def get_one_sample_walds(x_data, theta_o):\n",
    "    \n",
    "    # Calculates the sample mean of X\n",
    "    mean_est_x = sum(x_data)/len(x_data)\n",
    "    \n",
    "    # Calculating the sample variance of X\n",
    "    var_mle_est_x = (sum([(x - mean_est_x)**2 for x in x_data])/len(x_data))\n",
    "    \n",
    "    # Calculating the sample standard error of X\n",
    "    se_est = math.sqrt((var_mle_est_x/len(x_data)))\n",
    "    \n",
    "    # Value of |W|\n",
    "    W = abs((mean_est_x - theta_o)/ se_est)\n",
    "    \n",
    "    return W"
   ]
  },
  {
   "cell_type": "markdown",
   "metadata": {},
   "source": [
    "###### Two - Sample"
   ]
  },
  {
   "cell_type": "code",
   "execution_count": 37,
   "metadata": {},
   "outputs": [],
   "source": [
    "# Calculates two-sample wald's statistics value\n",
    "def get_two_sample_walds(x_data, y_data):\n",
    "    \n",
    "    # Calculates the sample mean of X & Y\n",
    "    mean_est_x = sum(x_data)/len(x_data)\n",
    "    mean_est_y = sum(y_data)/len(y_data)\n",
    "    \n",
    "    # Calculating the sample variance of X & Y\n",
    "    var_mle_est_x = (sum([(x - mean_est_x)**2 for x in x_data])/len(x_data))\n",
    "    var_mle_est_y = (sum([(y - mean_est_y)**2 for y in y_data])/len(y_data))\n",
    "    \n",
    "    # Calculating the sample standard error of X & Y\n",
    "    se_est = math.sqrt((var_mle_est_x/len(x_data)) + (var_mle_est_y/len(y_data)))\n",
    "    \n",
    "    # Value of |W|\n",
    "    W = abs((mean_est_x - mean_est_y)/(se_est))\n",
    "    \n",
    "    return W"
   ]
  },
  {
   "cell_type": "markdown",
   "metadata": {},
   "source": [
    "##### One - Sample t-test"
   ]
  },
  {
   "cell_type": "code",
   "execution_count": 38,
   "metadata": {},
   "outputs": [],
   "source": [
    "# Calculates One-sample t statistics value\n",
    "def get_one_sample_t_value(x_data, mu_o):\n",
    "    \n",
    "    # Calculates the sample mean of X\n",
    "    mean_est_x = sum(x_data)/len(x_data)\n",
    "    \n",
    "    # Calculating the sample variance of X\n",
    "    var_mle_est_x = (sum([(x - mean_est_x)**2 for x in x_data])/len(x_data))\n",
    "    \n",
    "    denominator = math.sqrt(var_mle_est_x/len(x_data) - 1)\n",
    "    \n",
    "    # Value of |t|\n",
    "    return abs((mean_est_x - mu_o)/denominator)"
   ]
  },
  {
   "cell_type": "markdown",
   "metadata": {},
   "source": [
    "###### Paired t-test"
   ]
  },
  {
   "cell_type": "code",
   "execution_count": 39,
   "metadata": {},
   "outputs": [],
   "source": [
    "# Calculates two-sample paired t statistics value\n",
    "def get_paired_t_test(x_data, y_data):\n",
    "    D = [x_data[i] - y_data[i] for i in range(len(x_data))]\n",
    "    \n",
    "    # Calculates the sample mean of X & Y\n",
    "    mean_est_x = sum(x_data)/len(x_data)\n",
    "    mean_est_y = sum(y_data)/len(y_data)\n",
    "    \n",
    "    mean_est_D = mean_est_x - mean_est_y\n",
    "    \n",
    "    # Calculating the sample variance of X & Y\n",
    "    var_mle_est_x = (sum([(x - mean_est_x)**2 for x in x_data])/len(x_data) - 1)\n",
    "    var_mle_est_y = (sum([(y - mean_est_y)**2 for y in y_data])/len(y_data) - 1)\n",
    "    \n",
    "    denominator = math.sqrt(var_mle_est_x/len(D))\n",
    "    \n",
    "    # Value of |t|\n",
    "    return abs(mean_est_D/denominator)"
   ]
  },
  {
   "cell_type": "markdown",
   "metadata": {},
   "source": [
    "###### Unpaired t-test"
   ]
  },
  {
   "cell_type": "code",
   "execution_count": 40,
   "metadata": {},
   "outputs": [],
   "source": [
    "# Calculates two-sample unpaired t statistics value\n",
    "def get_unpaired_t_test(x_data, y_data):\n",
    "    \n",
    "    # Calculates the sample mean of X & Y\n",
    "    mean_est_x = sum(x_data)/len(x_data)\n",
    "    mean_est_y = sum(y_data)/len(y_data)\n",
    "    \n",
    "    mean_est_D = mean_est_x - mean_est_y\n",
    "    \n",
    "    # Calculating the sample variance of X & Y\n",
    "    var_mle_est_x = (sum([(x - mean_est_x)**2 for x in x_data])/(len(x_data) - 1))\n",
    "    var_mle_est_y = (sum([(y - mean_est_y)**2 for y in y_data])/(len(y_data) - 1))\n",
    "    \n",
    "    denominator = math.sqrt((var_mle_est_x / len(x_data)) + (var_mle_est_y / len(y_data)))\n",
    "    \n",
    "    # Value of |t|\n",
    "    return abs(mean_est_D/denominator)"
   ]
  },
  {
   "cell_type": "markdown",
   "metadata": {},
   "source": [
    "##### Z-test"
   ]
  },
  {
   "cell_type": "code",
   "execution_count": 41,
   "metadata": {},
   "outputs": [],
   "source": [
    "# Calculates One-sample z statistics value\n",
    "def get_one_sample_z_value(x_data, mu_o, true_std_dev):\n",
    "    \n",
    "    # Calculates the sample mean of X\n",
    "    mean_est_x = sum(x_data)/len(x_data)\n",
    "    \n",
    "    denominator = true_std_dev/math.sqrt(len(x_data))\n",
    "    \n",
    "    # Value of |z|\n",
    "    return abs((mean_est_x - mu_o)/denominator)"
   ]
  },
  {
   "cell_type": "code",
   "execution_count": 42,
   "metadata": {},
   "outputs": [],
   "source": [
    "# Calculated the sample std dev of X\n",
    "def get_sample_std_dev(x_data):\n",
    "    \n",
    "    # Calculates the sample mean of X\n",
    "    mean_est_x = sum(x_data)/len(x_data)\n",
    "    \n",
    "    # Calculating the sample variance of X\n",
    "    var_mle_est_x = (sum([(x - mean_est_x)**2 for x in x_data])/(len(x_data) - 1))\n",
    "    \n",
    "    return math.sqrt(var_mle_est_x)\n",
    "\n",
    "# Gives result of hypothesis using test statistic and threshold - for t-test, z-test, wald's\n",
    "def hypothesis_test(test_statistic, threshold):\n",
    "    # TODO\n",
    "    if test_statistic <= threshold:\n",
    "        return \"Reject Null Hypothesis\"\n",
    "    else:\n",
    "        return \"Accept Null Hypothesis\""
   ]
  },
  {
   "cell_type": "code",
   "execution_count": 43,
   "metadata": {},
   "outputs": [],
   "source": [
    "second_last_week_data_cases = filtered_covid_19_df.Confirmed_Cases.tolist()[30:37]\n",
    "second_last_week_data_deaths = filtered_covid_19_df.Confirmed_Deaths.tolist()[30:37]\n",
    "\n",
    "sl_cases_mean = np.mean(second_last_week_data_cases)\n",
    "sl_deaths_mean = np.mean(second_last_week_data_deaths)\n",
    "\n",
    "last_week_data_cases = filtered_covid_19_df.Confirmed_Cases.tolist()[37:44]\n",
    "last_week_data_deaths = filtered_covid_19_df.Confirmed_Deaths.tolist()[37:44]"
   ]
  },
  {
   "cell_type": "markdown",
   "metadata": {},
   "source": [
    "### Hypothesis Declaration"
   ]
  },
  {
   "cell_type": "code",
   "execution_count": 44,
   "metadata": {},
   "outputs": [
    {
     "name": "stdout",
     "output_type": "stream",
     "text": [
      "--Hypothesis--\n",
      "Null Hypothesis -> H_0: mean of X != mean of Y\n",
      "Alternative Hypothesis -> H_1: mean of X = mean of Y\n"
     ]
    }
   ],
   "source": [
    "# Hypothesis explained\n",
    "print(\"--Hypothesis--\")\n",
    "print(\"Null Hypothesis -> H_0: mean of X != mean of Y\")\n",
    "print(\"Alternative Hypothesis -> H_1: mean of X = mean of Y\")"
   ]
  },
  {
   "cell_type": "code",
   "execution_count": 45,
   "metadata": {},
   "outputs": [],
   "source": [
    "# thresholds\n",
    "z_alpha_over_2 = 1.96 # for alpha = 0.05\n",
    "t_n_1_alpha_over_2 = 2.447 # for n = 7 and alpha = 0.05"
   ]
  },
  {
   "cell_type": "code",
   "execution_count": 46,
   "metadata": {},
   "outputs": [
    {
     "name": "stdout",
     "output_type": "stream",
     "text": [
      "--One Sample Wald's test--\n",
      "\n",
      "Value of |W| for last week cases  :  6.537154018741871\n",
      "Hypothesis Result:  Accept Null Hypothesis\n",
      "\n",
      "Value of |W| for last week deaths  :  11.031300028481647\n",
      "Hypothesis Result:  Accept Null Hypothesis\n",
      "\n",
      "--One Sample t-test--\n",
      "\n",
      "Value of |t| for last week cases  :  6.537518260999364\n",
      "Hypothesis Result:  Accept Null Hypothesis\n",
      "\n",
      "Value of |t| for last week deaths  :  11.117866883148983\n",
      "Hypothesis Result:  Accept Null Hypothesis\n",
      "\n",
      "--One Sample z-test--\n",
      "\n",
      "Value of |z| for last week cases  :  1.5929006040095843\n",
      "Hypothesis Result:  Reject Null Hypothesis\n",
      "\n",
      "Value of |z| for last week deaths  :  1.7297320713680915\n",
      "Hypothesis Result:  Reject Null Hypothesis\n"
     ]
    }
   ],
   "source": [
    "# One Sample Tests - to check whether the mean of COVID19 #deaths and #cases are different from the second-last week to the last week in the dataset\n",
    "\n",
    "print(\"--One Sample Wald's test--\\n\")\n",
    "one_sample_w_val_cases = get_one_sample_walds(last_week_data_cases, sl_cases_mean)\n",
    "print(\"Value of |W| for last week cases  : \", one_sample_w_val_cases)\n",
    "print(\"Hypothesis Result: \", hypothesis_test(one_sample_w_val_cases, z_alpha_over_2))\n",
    "print()\n",
    "\n",
    "one_sample_w_val_deaths = get_one_sample_walds(last_week_data_deaths, sl_deaths_mean)\n",
    "print(\"Value of |W| for last week deaths  : \", one_sample_w_val_deaths)\n",
    "print(\"Hypothesis Result: \", hypothesis_test(one_sample_w_val_deaths, z_alpha_over_2))\n",
    "\n",
    "print(\"\\n--One Sample t-test--\\n\")\n",
    "one_sample_t_val_cases = get_one_sample_t_value(last_week_data_cases, sl_cases_mean)\n",
    "print(\"Value of |t| for last week cases  : \", one_sample_t_val_cases)\n",
    "print(\"Hypothesis Result: \", hypothesis_test(one_sample_t_val_cases, t_n_1_alpha_over_2))\n",
    "print()\n",
    "\n",
    "one_sample_t_val_deaths = get_one_sample_t_value(last_week_data_deaths, sl_deaths_mean)\n",
    "print(\"Value of |t| for last week deaths  : \", one_sample_t_val_deaths)\n",
    "print(\"Hypothesis Result: \", hypothesis_test(one_sample_t_val_deaths, t_n_1_alpha_over_2))\n",
    "\n",
    "print(\"\\n--One Sample z-test--\\n\")\n",
    "true_std_dev_cases = get_sample_std_dev(filtered_covid_19_df.Confirmed_Cases.tolist())\n",
    "one_sample_z_val_cases = get_one_sample_z_value(last_week_data_cases, sl_cases_mean, true_std_dev_cases)\n",
    "print(\"Value of |z| for last week cases  : \", one_sample_z_val_cases)\n",
    "print(\"Hypothesis Result: \", hypothesis_test(one_sample_z_val_cases, z_alpha_over_2))\n",
    "print()\n",
    "\n",
    "true_std_dev_deaths = get_sample_std_dev(filtered_covid_19_df.Confirmed_Deaths.tolist())\n",
    "one_sample_z_val_deaths = get_one_sample_z_value(last_week_data_deaths, sl_deaths_mean, true_std_dev_deaths)\n",
    "print(\"Value of |z| for last week deaths  : \", one_sample_z_val_deaths)\n",
    "print(\"Hypothesis Result: \", hypothesis_test(one_sample_z_val_deaths, z_alpha_over_2))"
   ]
  },
  {
   "cell_type": "code",
   "execution_count": 74,
   "metadata": {},
   "outputs": [
    {
     "data": {
      "text/plain": [
       "([117, 126, 134, 155, 156, 174, 175], [67, 150, 189, 212, 296, 359, 384])"
      ]
     },
     "execution_count": 74,
     "metadata": {},
     "output_type": "execute_result"
    }
   ],
   "source": [
    "last_week_data_deaths, second_last_week_data_deaths"
   ]
  },
  {
   "cell_type": "code",
   "execution_count": 47,
   "metadata": {},
   "outputs": [
    {
     "name": "stdout",
     "output_type": "stream",
     "text": [
      "--Two Sample Wald's test--\n",
      "\n",
      "Value of |W| for last week cases  :  2.5368661207992957\n",
      "Hypothesis Result:  Accept Null Hypothesis\n",
      "\n",
      "Value of |W| for last week deaths  :  2.1581668391426776\n",
      "Hypothesis Result:  Accept Null Hypothesis\n",
      "\n",
      "--Two Sample unpaired t test--\n",
      "\n",
      "Value of unpaired |t| for last week cases  :  2.3486816450680092\n",
      "Hypothesis Result:  Reject Null Hypothesis\n",
      "\n",
      "Value of unpaired |t| for last week deaths  :  1.998074238340886\n",
      "Hypothesis Result:  Reject Null Hypothesis\n",
      "\n",
      "--Two Sample paired t test--\n",
      "\n",
      "Value of paired |t| for last week cases  :  2.752589096131289\n",
      "Hypothesis Result:  Accept Null Hypothesis\n",
      "\n",
      "Value of paired |t| for last week deaths  :  2.2007907025734355\n",
      "Hypothesis Result:  Reject Null Hypothesis\n"
     ]
    }
   ],
   "source": [
    "print(\"--Two Sample Wald's test--\\n\")\n",
    "two_sample_w_val_cases = get_two_sample_walds(second_last_week_data_cases, last_week_data_cases)\n",
    "print(\"Value of |W| for last week cases  : \", two_sample_w_val_cases)\n",
    "print(\"Hypothesis Result: \", hypothesis_test(two_sample_w_val_cases, z_alpha_over_2))\n",
    "print()\n",
    "\n",
    "two_sample_w_val_deaths = get_two_sample_walds(second_last_week_data_deaths, last_week_data_deaths)\n",
    "print(\"Value of |W| for last week deaths  : \", two_sample_w_val_deaths)\n",
    "print(\"Hypothesis Result: \", hypothesis_test(two_sample_w_val_deaths, z_alpha_over_2))\n",
    "\n",
    "print(\"\\n--Two Sample unpaired t test--\\n\")\n",
    "two_sample_unpaired_t_val_cases = get_unpaired_t_test(second_last_week_data_cases, last_week_data_cases)\n",
    "print(\"Value of unpaired |t| for last week cases  : \", two_sample_unpaired_t_val_cases)\n",
    "print(\"Hypothesis Result: \", hypothesis_test(two_sample_unpaired_t_val_cases, t_n_1_alpha_over_2))\n",
    "print()\n",
    "\n",
    "two_sample_unpaired_t_val_deaths = get_unpaired_t_test(second_last_week_data_deaths, last_week_data_deaths)\n",
    "print(\"Value of unpaired |t| for last week deaths  : \", two_sample_unpaired_t_val_deaths)\n",
    "print(\"Hypothesis Result: \", hypothesis_test(two_sample_unpaired_t_val_deaths, t_n_1_alpha_over_2))\n",
    "\n",
    "print(\"\\n--Two Sample paired t test--\\n\")\n",
    "two_sample_paired_t_val_cases = get_paired_t_test(second_last_week_data_cases, last_week_data_cases)\n",
    "print(\"Value of paired |t| for last week cases  : \", two_sample_paired_t_val_cases)\n",
    "print(\"Hypothesis Result: \", hypothesis_test(two_sample_paired_t_val_cases, t_n_1_alpha_over_2))\n",
    "print()\n",
    "\n",
    "two_sample_paired_t_val_deaths = get_paired_t_test(second_last_week_data_deaths, last_week_data_deaths)\n",
    "print(\"Value of paired |t| for last week deaths  : \", two_sample_paired_t_val_deaths)\n",
    "print(\"Hypothesis Result: \", hypothesis_test(two_sample_paired_t_val_deaths, t_n_1_alpha_over_2))"
   ]
  },
  {
   "cell_type": "markdown",
   "metadata": {},
   "source": [
    "#### Assumptions and validity of tests\n",
    "1. Wald's test (One-sample and Two-sample) are applicable since the our data (theta_cap) is AN and it also satisfies the CI range with z_alpha_over_2 as 1.96\n",
    "2. Z-test is not applicable since the n is too small and we dunno the true std dev. And the test is rejecting the null hypothesis.\n",
    "3. One sample t-test is applicable, since we dunno the true std dev and n is small. And our data (theta_cap) is AN.\n",
    "4. Two sample paired t-test is applicable for the number of cases of covid-19 since there is dependency, but for deaths there is no dependency and hence the paired t-test is not applicable for number of deaths.\n",
    "5. Two sample unpaired t-test is not applicable for the number of cases of covid-19 since there is dependency, but for deaths there is no dependency and hence the unpaired t-test is applicable for number of deaths."
   ]
  },
  {
   "cell_type": "markdown",
   "metadata": {},
   "source": [
    "## Inference 3"
   ]
  },
  {
   "cell_type": "markdown",
   "metadata": {},
   "source": [
    "##### Helper Functions"
   ]
  },
  {
   "cell_type": "code",
   "execution_count": 48,
   "metadata": {},
   "outputs": [],
   "source": [
    "# Calculates the e_CDF\n",
    "def get_e_cdf_val(x, alpha):\n",
    "    return sum([1 for x_i in x if x_i <= alpha])/len(x)\n",
    "\n",
    "# Calculates the e_CDF-\n",
    "def get_e_cdf_val_neg(x, e_cdf, y):\n",
    "    e_cdf_neg = []\n",
    "    for alpha in y:\n",
    "        if min(x) >= alpha:\n",
    "            e_cdf_neg.append(0)\n",
    "        elif max(x)<alpha:\n",
    "            e_cdf_neg.append(1)\n",
    "        else:\n",
    "            e_cdf_neg.append( e_cdf[len([y_i for y_i in x if y_i < alpha]) - 1])\n",
    "    return e_cdf_neg\n",
    "\n",
    "# Calculates the e_CDF+\n",
    "def get_e_cdf_val_pos(x, e_cdf, y):\n",
    "    e_cdf_pos = []\n",
    "    for alpha in y:\n",
    "        if min(x) > alpha:\n",
    "            e_cdf_pos.append(0)\n",
    "        elif max(x)<=alpha:\n",
    "            e_cdf_pos.append(1)\n",
    "        else:\n",
    "            e_cdf_pos.append(e_cdf[len(e_cdf) - len([y_i for y_i in x if y_i > alpha]) - 1 ])\n",
    "    return e_cdf_pos\n",
    "\n",
    "# Calculates the CDF of poisson distribution\n",
    "def poisson_cdf(lambda_mme, n):\n",
    "    return sum([np.exp(-1 * lambda_mme) * (lambda_mme**i)/np.math.factorial(i) for i in range(n)])\n",
    "\n",
    "# Calculates the CDF of geometric distribution\n",
    "def geometric_cdf(p_mme, n):\n",
    "    return 1 - (1 - p)**(n+1)\n",
    "\n",
    "# Calculates n_C_r value\n",
    "def comb(n,r):\n",
    "    fact = math.factorial\n",
    "    return fact(n)/(fact(r) * fact(n-r))\n",
    "\n",
    "# Calculates the CDF of binomial distribution\n",
    "def binomial_cdf(p_mme, n, k):\n",
    "    return sum([comb(n, k) * (p_mme**i)*((1-p_mme)**(n-i)) for i in range(k)])"
   ]
  },
  {
   "cell_type": "markdown",
   "metadata": {},
   "source": [
    "##### K-S Test"
   ]
  },
  {
   "cell_type": "code",
   "execution_count": 97,
   "metadata": {},
   "outputs": [],
   "source": [
    "# Returns the k-s test hypothesis result using max_diff and threshold\n",
    "def k_s_test_hyp_res(max_diff, threshold):\n",
    "    # Since the Null Hypothesis given in the problem statement is alternative hypotheis in the original test,\n",
    "    # we have handled this by changing the equality sign\n",
    "    if max_diff <= threshold:\n",
    "        return \"Reject Null Hypothesis\"\n",
    "    else:\n",
    "        return \"Null Hypothesis is True\"\n",
    "    \n",
    "def k_s_test_hyp_orig(max_diff, threshold):\n",
    "    if max_diff > threshold:\n",
    "        return \"Reject Null Hypothesis\"\n",
    "    else:\n",
    "        return \"Null Hypothesis is True\""
   ]
  },
  {
   "cell_type": "markdown",
   "metadata": {},
   "source": [
    "###### One-Sample Test"
   ]
  },
  {
   "cell_type": "code",
   "execution_count": 50,
   "metadata": {},
   "outputs": [],
   "source": [
    "# One sample k-s test which handles for poisson, geometric & binomial\n",
    "def one_sample_k_s_test(distribution_name, x, old_data): \n",
    "    \n",
    "    # Sort the data\n",
    "    x.sort()\n",
    "    \n",
    "    # Calculates the e_CDF of X\n",
    "    cdf_x_val = [get_e_cdf_val(x, alpha) for alpha in x]\n",
    "    \n",
    "    # Calculates the parameters estimated on old data using MME\n",
    "    # Calculates the Fy(X) for selected distribution\n",
    "    Fy_x = []\n",
    "    if distribution_name == \"Poisson\":\n",
    "        lambda_mme = np.mean(old_data)\n",
    "        Fy_x.extend([stats.poisson.cdf(i, lambda_mme) for i in range(len(x))])\n",
    "    elif distribution_name == \"Geometric\":\n",
    "        p_mme = 1/(np.mean(old_data) + 1)\n",
    "        Fy_x.extend([stats.geom.cdf(i, p_mme) for i in range(len(x))])\n",
    "    elif distribution_name == \"Binomial\":\n",
    "        p_mme = np.mean(old_data)/len(old_data)\n",
    "        Fy_x.extend([stats.binom.cdf(i, len(x), p_mme) for i in range(1, len(x)+1)])\n",
    "\n",
    "    # Calculates the Fx(X) + and -\n",
    "    Fx_hat_x_neg = get_e_cdf_val_neg(x, cdf_x_val, x)\n",
    "    Fx_hat_x_pos = get_e_cdf_val_pos(x, cdf_x_val, x)\n",
    "    \n",
    "    # Computes the max diff\n",
    "    max_diff = 0\n",
    "    plt_vals = []\n",
    "    for i in range(len(x)):\n",
    "        diff = abs(Fy_x[i] - Fx_hat_x_neg[i])\n",
    "        if diff >= max_diff:\n",
    "            max_diff = diff\n",
    "        diff = abs(Fy_x[i] - Fx_hat_x_pos[i])\n",
    "        if diff >= max_diff:\n",
    "            max_diff = diff\n",
    "    \n",
    "    # Rounding the decimal places to 2\n",
    "    max_diff = round(max_diff,2)\n",
    "    \n",
    "    return max_diff"
   ]
  },
  {
   "cell_type": "markdown",
   "metadata": {},
   "source": [
    "###### Two-Sample Test"
   ]
  },
  {
   "cell_type": "code",
   "execution_count": 51,
   "metadata": {},
   "outputs": [],
   "source": [
    "# Two-sample k-s test\n",
    "def two_sample_k_s_test(x, y):\n",
    "    \n",
    "    # Sort both the data\n",
    "    x.sort()\n",
    "    y.sort()\n",
    "\n",
    "    # Calculate eCDF of for both x and y\n",
    "    cdf_x_val = [get_e_cdf_val(x, alpha) for alpha in x]\n",
    "    cdf_y_val = [get_e_cdf_val(y, alpha) for alpha in y]\n",
    "    \n",
    "    # Fetch unique value of X and sort it again\n",
    "    uniq_x = list(set(x))\n",
    "    uniq_x.sort()\n",
    "    \n",
    "    # Calculate Fx(X), Fy(X)-, Fy(X)+\n",
    "    Fx_hat_x = [get_e_cdf_val(y, alpha) for alpha in uniq_x]\n",
    "    Fy_hat_x_neg = get_e_cdf_val_neg(x, cdf_x_val, uniq_x)\n",
    "    Fy_hat_x_pos = get_e_cdf_val_pos(x, cdf_x_val, uniq_x)\n",
    "    \n",
    "    # Compute the max diff\n",
    "    max_diff = 0\n",
    "    plt_vals = []\n",
    "    for i in range(len(uniq_x)):\n",
    "        diff = abs(Fx_hat_x[i] - Fy_hat_x_neg[i])\n",
    "        if diff >= max_diff:\n",
    "            max_diff = diff\n",
    "        diff = abs(Fx_hat_x[i] - Fy_hat_x_pos[i])\n",
    "        if diff >= max_diff:\n",
    "            max_diff = diff\n",
    "    \n",
    "    # Rounding the decimal places to 2\n",
    "    max_diff = round(max_diff,2)\n",
    "    \n",
    "    return max_diff"
   ]
  },
  {
   "cell_type": "markdown",
   "metadata": {},
   "source": [
    "###### Permutation Test"
   ]
  },
  {
   "cell_type": "code",
   "execution_count": 96,
   "metadata": {},
   "outputs": [],
   "source": [
    "# Calculates the p_value by picking n random permutations from x+y\n",
    "def get_p_value(x, y, n):\n",
    "    \n",
    "    # Calculates the t_observe\n",
    "    t_obs = abs(np.mean(x) - np.mean(y))\n",
    "    x_size = len(x)\n",
    "    p_value = 0\n",
    "    for i in range(n):\n",
    "        # Fetches a random permutation\n",
    "        perm  = np.random.permutation(x + y)\n",
    "        \n",
    "        # Comparing t_i with t_observe\n",
    "        if (abs(np.mean(perm[0:x_size]) - np.mean(perm[x_size:]))) > t_obs:\n",
    "            p_value += 1\n",
    "    \n",
    "    # Final p_value\n",
    "    p_value /= n\n",
    "    return p_value\n",
    "\n",
    "# Gives the permutation test result based on p_value and threshold\n",
    "def perumtation_test_res(p_val, threshold):\n",
    "    # The equality sign is changed to opposite of the original. Since the null hypothesis is X not equal to Y\n",
    "    # The rejection part of the distribution will be such that mean of X will be equal to mean of Y\n",
    "    # H_0 = [X != Y]  vs H_1 = [X = Y]\n",
    "    if p_val > threshold:\n",
    "        return \"Reject Null Hypothesis\"\n",
    "    else:\n",
    "        return \"Null Hypothesis is True\"\n",
    "    \n",
    "def perumtation_test_orig(p_val, threshold):\n",
    "    if p_val <= threshold:\n",
    "        return \"Reject Null Hypothesis\"\n",
    "    else:\n",
    "        return \"Null Hypothesis is True\""
   ]
  },
  {
   "cell_type": "markdown",
   "metadata": {},
   "source": [
    "### Hypothesis Declaration"
   ]
  },
  {
   "cell_type": "code",
   "execution_count": 53,
   "metadata": {},
   "outputs": [
    {
     "name": "stdout",
     "output_type": "stream",
     "text": [
      "--Hypothesis--\n",
      "Null Hypothesis -> H_0: mean of X != mean of Y\n",
      "Alternative Hypothesis -> H_1: mean of X = mean of Y\n"
     ]
    }
   ],
   "source": [
    "# Hypothesis explained\n",
    "print(\"--Hypothesis--\")\n",
    "print(\"Null Hypothesis -> H_0: mean of X != mean of Y\")\n",
    "print(\"Alternative Hypothesis -> H_1: mean of X = mean of Y\")"
   ]
  },
  {
   "cell_type": "code",
   "execution_count": 54,
   "metadata": {},
   "outputs": [],
   "source": [
    "# Thresholds\n",
    "c = 0.05\n",
    "alpha = 0.05"
   ]
  },
  {
   "cell_type": "code",
   "execution_count": 55,
   "metadata": {},
   "outputs": [],
   "source": [
    "# Last week and second last week covid-19 data of cases and deaths \n",
    "second_last_week_data_cases = filtered_covid_19_df.Confirmed_Cases.tolist()[30:37]\n",
    "second_last_week_data_deaths = filtered_covid_19_df.Confirmed_Deaths.tolist()[30:37]\n",
    "\n",
    "last_week_data_cases = filtered_covid_19_df.Confirmed_Cases.tolist()[37:44]\n",
    "last_week_data_deaths = filtered_covid_19_df.Confirmed_Deaths.tolist()[37:44]"
   ]
  },
  {
   "cell_type": "code",
   "execution_count": 56,
   "metadata": {},
   "outputs": [
    {
     "name": "stdout",
     "output_type": "stream",
     "text": [
      "--One Sample K-S Test--\n",
      "\n",
      "Max Diff of cases for Binmoial distribution :  0.14\n",
      "Hypothesis Result:  Null Hypothesis is True\n",
      "\n",
      "Max Diff of cases for Geometric distribution :  1.0\n",
      "Hypothesis Result:  Null Hypothesis is True\n",
      "\n",
      "Max Diff of cases for Poisson distribution :  1.0\n",
      "Hypothesis Result:  Null Hypothesis is True\n",
      "\n",
      "Max Diff of deaths for Binmoial distribution :  0.14\n",
      "Hypothesis Result:  Null Hypothesis is True\n",
      "\n",
      "Max Diff of deaths for Geometric distribution :  0.98\n",
      "Hypothesis Result:  Null Hypothesis is True\n",
      "\n",
      "Max Diff of deaths for Poisson distribution :  1.0\n",
      "Hypothesis Result:  Null Hypothesis is True\n",
      "\n"
     ]
    }
   ],
   "source": [
    "print(\"--One Sample K-S Test--\\n\")\n",
    "\n",
    "one_sample_k_s_max_diff_cases_bin = one_sample_k_s_test(\"Binomial\", last_week_data_cases, second_last_week_data_cases)\n",
    "print(\"Max Diff of cases for Binmoial distribution : \", one_sample_k_s_max_diff_cases_bin)\n",
    "print(\"Hypothesis Result: \", k_s_test_hyp_res(one_sample_k_s_max_diff_cases_bin, c))\n",
    "print()\n",
    "\n",
    "one_sample_k_s_max_diff_cases_geo = one_sample_k_s_test(\"Geometric\", last_week_data_cases, second_last_week_data_cases)\n",
    "print(\"Max Diff of cases for Geometric distribution : \", one_sample_k_s_max_diff_cases_geo)\n",
    "print(\"Hypothesis Result: \", k_s_test_hyp_res(one_sample_k_s_max_diff_cases_geo, c))\n",
    "print()\n",
    "\n",
    "one_sample_k_s_max_diff_cases_poi = one_sample_k_s_test(\"Poisson\", last_week_data_cases, second_last_week_data_cases)\n",
    "print(\"Max Diff of cases for Poisson distribution : \", one_sample_k_s_max_diff_cases_poi)\n",
    "print(\"Hypothesis Result: \", k_s_test_hyp_res(one_sample_k_s_max_diff_cases_poi, c))\n",
    "print()\n",
    "\n",
    "one_sample_k_s_max_diff_deaths_bin = one_sample_k_s_test(\"Binomial\", last_week_data_deaths, second_last_week_data_deaths)\n",
    "print(\"Max Diff of deaths for Binmoial distribution : \", one_sample_k_s_max_diff_deaths_bin)\n",
    "print(\"Hypothesis Result: \", k_s_test_hyp_res(one_sample_k_s_max_diff_deaths_bin, c))\n",
    "print()\n",
    "\n",
    "one_sample_k_s_max_diff_deaths_geo = one_sample_k_s_test(\"Geometric\", last_week_data_deaths, second_last_week_data_deaths)\n",
    "print(\"Max Diff of deaths for Geometric distribution : \", one_sample_k_s_max_diff_deaths_geo)\n",
    "print(\"Hypothesis Result: \", k_s_test_hyp_res(one_sample_k_s_max_diff_deaths_geo, c))\n",
    "print()\n",
    "\n",
    "one_sample_k_s_max_diff_deaths_poi = one_sample_k_s_test(\"Poisson\", last_week_data_deaths, second_last_week_data_deaths)\n",
    "print(\"Max Diff of deaths for Poisson distribution : \", one_sample_k_s_max_diff_deaths_poi)\n",
    "print(\"Hypothesis Result: \", k_s_test_hyp_res(one_sample_k_s_max_diff_deaths_poi, c))\n",
    "print()"
   ]
  },
  {
   "cell_type": "code",
   "execution_count": 58,
   "metadata": {},
   "outputs": [
    {
     "name": "stdout",
     "output_type": "stream",
     "text": [
      "--Two Sample K-S Test--\n",
      "\n",
      "Max Diff of cases :  0.71\n",
      "Hypothesis Result:  Null Hypothesis is True\n",
      "\n",
      "Max Diff of deaths :  0.71\n",
      "Hypothesis Result:  Null Hypothesis is True\n"
     ]
    }
   ],
   "source": [
    "print(\"--Two Sample K-S Test--\\n\")\n",
    "two_sample_k_s_max_diff_cases = two_sample_k_s_test(second_last_week_data_cases, last_week_data_cases)\n",
    "print(\"Max Diff of cases : \", two_sample_k_s_max_diff_cases)\n",
    "print(\"Hypothesis Result: \", k_s_test_hyp_res(two_sample_k_s_max_diff_cases, c))\n",
    "print()\n",
    "\n",
    "two_sample_k_s_max_diff_deaths = two_sample_k_s_test(second_last_week_data_deaths, last_week_data_deaths)\n",
    "print(\"Max Diff of deaths : \", two_sample_k_s_max_diff_deaths)\n",
    "print(\"Hypothesis Result: \", k_s_test_hyp_res(two_sample_k_s_max_diff_deaths, c))"
   ]
  },
  {
   "cell_type": "code",
   "execution_count": 62,
   "metadata": {
    "scrolled": true
   },
   "outputs": [
    {
     "name": "stdout",
     "output_type": "stream",
     "text": [
      "--Permutation Test--\n",
      "\n",
      "P-Value for cases is :  0.01868\n",
      "Hypothesis result :  Null Hypothesis is True\n",
      "\n",
      "P-Value for deaths is :  0.08036\n",
      "Hypothesis result :  Reject Null Hypothesis\n"
     ]
    },
    {
     "data": {
      "text/plain": [
       "(0.01868, 0.08036)"
      ]
     },
     "execution_count": 62,
     "metadata": {},
     "output_type": "execute_result"
    }
   ],
   "source": [
    "# Since the computation required to calculate all possible permutations of 2 weeks is more, we are taking 50000 random permutations.\n",
    "print(\"--Permutation Test--\\n\")\n",
    "p_val_cases = get_p_value(second_last_week_data_cases, last_week_data_cases, 50000)\n",
    "print(\"P-Value for cases is : \", p_val_cases)\n",
    "print(\"Hypothesis result : \", perumtation_test_res(p_val_cases, 0.05))\n",
    "print()\n",
    "\n",
    "p_val_deaths = get_p_value(second_last_week_data_deaths, last_week_data_deaths, 50000)\n",
    "print(\"P-Value for deaths is : \", p_val_deaths)\n",
    "print(\"Hypothesis result : \", perumtation_test_res(p_val_deaths, 0.05))\n",
    "\n",
    "p_val_cases, p_val_deaths"
   ]
  },
  {
   "cell_type": "markdown",
   "metadata": {},
   "source": [
    "#### Assumptions and validity of tests\n",
    "1. K-S test (one-sample and two-sample) are applicable since there are no assumptions. \n",
    "2. Permutation test doesn not apply for cases since the cases are not iids.\n",
    "3. Permutation test doesn not apply for deaths since the deaths are not iids."
   ]
  },
  {
   "cell_type": "markdown",
   "metadata": {},
   "source": [
    "## Inference 4"
   ]
  },
  {
   "cell_type": "markdown",
   "metadata": {},
   "source": [
    "##### Helper Functions"
   ]
  },
  {
   "cell_type": "markdown",
   "metadata": {},
   "source": [
    "##### Pearson Correlation"
   ]
  },
  {
   "cell_type": "code",
   "execution_count": 63,
   "metadata": {},
   "outputs": [],
   "source": [
    "def get_pearson_correlation(X, Y):\n",
    "    \n",
    "    # Calculating mean of X, Y\n",
    "    x_bar = np.mean(X)\n",
    "    y_bar = np.mean(Y)\n",
    "    \n",
    "    # Calculates numerator of S_Cap_x,y formula\n",
    "    nr = sum([(X[i] - x_bar)*(Y[i] - y_bar) for i in range(len(X))])\n",
    "    \n",
    "    # Calculates denominator of S_Cap_x,y formula\n",
    "    dr = (sum([(X[i] - x_bar)**2 for i in range(len(X))]) * sum([(Y[i] - y_bar)**2 for i in range(len(X))]))**0.5\n",
    "    \n",
    "    return round(nr/dr, 4)\n",
    "\n",
    "# Gives correlation based on the pearson correlation coefficient\n",
    "def get_correlation(pearson_val):\n",
    "    if pearson_val > 0.5:\n",
    "        return \"Positive Linear Correlation\"\n",
    "    elif pearson_val < -0.5:\n",
    "        return \"Negative Linear Correlation\"\n",
    "    else:\n",
    "        return \"No Correlation\""
   ]
  },
  {
   "cell_type": "code",
   "execution_count": 64,
   "metadata": {},
   "outputs": [
    {
     "name": "stdout",
     "output_type": "stream",
     "text": [
      "Pearson Correlation Coefficient for Covid-19 cases and X dataset 2020 service requests over last one month data is :  -0.51\n",
      "Correlation:  Negative Linear Correlation\n",
      "\n",
      "Pearson Correlation Coefficient for Covid-19 deaths and X dataset 2020 service requests over last one month data is :  -0.3275\n",
      "Correlation:  No Correlation\n"
     ]
    }
   ],
   "source": [
    "# Passing last 30 days data of covid-19 and X dataset relevant column\n",
    "pearson_val_cases = get_pearson_correlation(filtered_covid_19_df.Confirmed_Cases.tolist()[-30:], X_20_df[\"Service Requests\"].tolist()[-30:])\n",
    "print(\"Pearson Correlation Coefficient for Covid-19 cases and X dataset 2020 service requests over last one month data is : \", pearson_val_cases)\n",
    "print(\"Correlation: \", get_correlation(pearson_val_cases))\n",
    "print()\n",
    "\n",
    "pearson_val_deaths = get_pearson_correlation(filtered_covid_19_df.Confirmed_Deaths.tolist()[-30:], X_20_df[\"Service Requests\"].tolist()[-30:])\n",
    "print(\"Pearson Correlation Coefficient for Covid-19 deaths and X dataset 2020 service requests over last one month data is : \", pearson_val_deaths)\n",
    "print(\"Correlation: \", get_correlation(pearson_val_deaths))"
   ]
  },
  {
   "cell_type": "markdown",
   "metadata": {},
   "source": [
    "## Infernce 5"
   ]
  },
  {
   "cell_type": "markdown",
   "metadata": {},
   "source": [
    "#### Bayesian Inference\n",
    "Calculating the posterior considering \n",
    "    - prior as exponential(1/beta)\n",
    "    - data distribution as poisson(lambda)\n",
    "lambda_mme = (1/beta) = sample_mean"
   ]
  },
  {
   "cell_type": "code",
   "execution_count": 76,
   "metadata": {},
   "outputs": [
    {
     "name": "stdout",
     "output_type": "stream",
     "text": [
      "MAP for posterior at the end of week 1  : 4\n",
      "MAP for posterior at the end of week 2  : 8\n",
      "MAP for posterior at the end of week 3  : 12\n",
      "MAP for posterior at the end of week 4  : 15\n"
     ]
    },
    {
     "data": {
      "image/png": "[encoded data removed]",
      "text/plain": [
       "<Figure size 432x288 with 1 Axes>"
      ]
     },
     "metadata": {
      "needs_background": "light"
     },
     "output_type": "display_data"
    }
   ],
   "source": [
    "alphas = []\n",
    "betas = []\n",
    "weeks = 1\n",
    "def get_posterior(x_data):\n",
    "    global weeks\n",
    "    sum_x = sum([(x_data[i]) for i in range(weeks * 7)])\n",
    "\n",
    "    alpha = sum_x + 1\n",
    "    beta = (weeks * 7) * (1 + (1 / sum_x))\n",
    "    alphas.append(alpha)\n",
    "    betas.append(beta)\n",
    "\n",
    "    if weeks < 4:\n",
    "        weeks += 1\n",
    "        get_posterior(x_data)\n",
    "\n",
    "\n",
    "def plot_posterior(x_data):\n",
    "    get_posterior(x_data)\n",
    "\n",
    "    for i in range(weeks):\n",
    "        x = (x_data[: (i + 1) * 7])\n",
    "        x.sort()\n",
    "        y = stats.gamma.pdf(x, a=alphas[i], scale=1 / betas[i])\n",
    "        plt.title(\"Posterior Distribution\")\n",
    "        plt.plot(x, y, label=(r'$ week = ' + str(i + 1) + ', \\u03B1=' + str(alphas[i]) + ', \\u03B2=' + str(round(betas[i], 3)) + '$'))\n",
    "        plt.legend()\n",
    "        print('MAP for posterior at the end of week', (i + 1), ' :', np.argmax(y))\n",
    "    plt.show()\n",
    "    \n",
    "\n",
    "plot_posterior(four_weeks_deaths_data)"
   ]
  },
  {
   "cell_type": "markdown",
   "metadata": {},
   "source": [
    "# NEW INFERENCES"
   ]
  },
  {
   "cell_type": "markdown",
   "metadata": {},
   "source": [
    "## Inference 1"
   ]
  },
  {
   "cell_type": "markdown",
   "metadata": {},
   "source": [
    "##### Description:\n",
    "Using permutation test and k-s test to check whether the first two weeks of covid-19 data for #cases & #deaths and X data noise complaints follow same distribution. Through this test, we will know that once the cases arised, whether the noise complaints were also increasing or not."
   ]
  },
  {
   "cell_type": "code",
   "execution_count": 66,
   "metadata": {},
   "outputs": [],
   "source": [
    "# Data for the test\n",
    "first_two_weeks_cases_data = filtered_covid_19_df.Confirmed_Cases.tolist()[:14]\n",
    "first_two_weeks_deaths_data = filtered_covid_19_df.Confirmed_Deaths.tolist()[:14]\n",
    "x_data_noise_complaints_data = X_20_df[\"Residential Noise Complaints\"].tolist()[:14]"
   ]
  },
  {
   "cell_type": "code",
   "execution_count": 98,
   "metadata": {},
   "outputs": [
    {
     "name": "stdout",
     "output_type": "stream",
     "text": [
      "--Two Sample K-S Test--\n",
      "\n",
      "Max Diff for cases is :  1.0\n",
      "Hypothesis result :  Reject Null Hypothesis\n",
      "\n",
      "Max Diff for cases is :  0.93\n",
      "Hypothesis result :  Reject Null Hypothesis\n"
     ]
    }
   ],
   "source": [
    "print(\"--Two Sample K-S Test--\\n\")\n",
    "two_sample_k_s_max_diff_cases = two_sample_k_s_test(first_two_weeks_cases_data, x_data_noise_complaints_data)\n",
    "print(\"Max Diff for cases is : \", two_sample_k_s_max_diff_cases)\n",
    "print(\"Hypothesis result : \", k_s_test_hyp_orig(two_sample_k_s_max_diff_cases, 0.05))\n",
    "print()\n",
    "\n",
    "two_sample_k_s_max_diff_deaths = two_sample_k_s_test(first_two_weeks_deaths_data, x_data_noise_complaints_data)\n",
    "print(\"Max Diff for cases is : \", two_sample_k_s_max_diff_deaths)\n",
    "print(\"Hypothesis result : \", k_s_test_hyp_orig(two_sample_k_s_max_diff_deaths, 0.05))"
   ]
  },
  {
   "cell_type": "code",
   "execution_count": 99,
   "metadata": {
    "scrolled": true
   },
   "outputs": [
    {
     "name": "stdout",
     "output_type": "stream",
     "text": [
      "--Permutation Test--\n",
      "\n",
      "P-Value for cases is :  0.0\n",
      "Hypothesis result :  Reject Null Hypothesis\n",
      "\n",
      "P-Value for deaths is :  0.0\n",
      "Hypothesis result :  Reject Null Hypothesis\n"
     ]
    }
   ],
   "source": [
    "# Since the computation required to calculate all possible permutations of 2 weeks is more, we are taking 100000 random permutations.\n",
    "print(\"--Permutation Test--\\n\")\n",
    "p_val_cases = get_p_value(first_two_weeks_cases_data, x_data_noise_complaints_data, 100000)\n",
    "print(\"P-Value for cases is : \", p_val_cases)\n",
    "print(\"Hypothesis result : \", perumtation_test_orig(p_val_cases, 0.05))\n",
    "print()\n",
    "\n",
    "p_val_deaths = get_p_value(first_two_weeks_deaths_data, x_data_noise_complaints_data, 100000)\n",
    "print(\"P-Value for deaths is : \", p_val_deaths)\n",
    "print(\"Hypothesis result : \", perumtation_test_orig(p_val_deaths, 0.05))"
   ]
  },
  {
   "cell_type": "markdown",
   "metadata": {},
   "source": [
    "##### Conclusions:\n",
    "We can see that since the covid cases started rising, there was increase in noise complaints as well. We can infer that since the region was under lockdown and most of the people were at home, so there was surge in the complaints."
   ]
  },
  {
   "cell_type": "markdown",
   "metadata": {},
   "source": [
    "## Inference 2"
   ]
  },
  {
   "cell_type": "markdown",
   "metadata": {},
   "source": [
    "##### Description: \n",
    "1. Effect of the decreasing daily cases on parking complaints. We can compare the covid cases of last two weeks with parking complaints\n",
    "2. Computing the correlation of daily parking issues in 2019 and 2020. We can apply pearson correlation on first two weeks data to find the correlation between covid cases vs 2019 parking complaints and covid cases vs 2020 parking complaints.\n"
   ]
  },
  {
   "cell_type": "code",
   "execution_count": 69,
   "metadata": {},
   "outputs": [],
   "source": [
    "# Data for the test - 1\n",
    "last_two_weeks_cases_data = filtered_covid_19_df.Confirmed_Cases.tolist()[:20]\n",
    "last_two_weeks_park_compl_data_20 = X_20_df[\"Parking Complaints\"].tolist()[:20]"
   ]
  },
  {
   "cell_type": "code",
   "execution_count": 70,
   "metadata": {},
   "outputs": [
    {
     "name": "stdout",
     "output_type": "stream",
     "text": [
      "Pearson Correlation Coefficient for Covid-19 deaths and X dataset 2020 parking complaints over first two weeks data is :  -0.1774\n",
      "Correlation:  No Correlation\n"
     ]
    }
   ],
   "source": [
    "pearson_val_cases_20 = get_pearson_correlation(last_two_weeks_cases_data, last_two_weeks_park_compl_data_20)\n",
    "print(\"Pearson Correlation Coefficient for Covid-19 deaths and X dataset 2020 parking complaints over first two weeks data is : \", pearson_val_cases_20)\n",
    "print(\"Correlation: \", get_correlation(pearson_val_cases_20))"
   ]
  },
  {
   "cell_type": "code",
   "execution_count": 71,
   "metadata": {},
   "outputs": [],
   "source": [
    "# Data for the test - 2\n",
    "cases_data = filtered_covid_19_df.Confirmed_Cases.tolist()\n",
    "x_data_parking_complaints_data_19 = X_19_df[\"Parking Complaints\"].tolist()\n",
    "x_data_parking_complaints_data_20 = X_20_df[\"Parking Complaints\"].tolist()"
   ]
  },
  {
   "cell_type": "code",
   "execution_count": 72,
   "metadata": {},
   "outputs": [
    {
     "name": "stdout",
     "output_type": "stream",
     "text": [
      "Pearson Correlation Coefficient for Covid-19 cases and X dataset 2019 parking complaints over first two weeks data is :  0.0738\n",
      "Correlation:  No Correlation\n",
      "\n",
      "Pearson Correlation Coefficient for Covid-19 deaths and X dataset 2020 parking complaints over first two weeks data is :  -0.6979\n",
      "Correlation:  Negative Linear Correlation\n"
     ]
    }
   ],
   "source": [
    "# Passing all 44 days data of covid-19 and X dataset relevant column\n",
    "pearson_val_cases_19 = get_pearson_correlation(cases_data, x_data_parking_complaints_data_19)\n",
    "print(\"Pearson Correlation Coefficient for Covid-19 cases and X dataset 2019 parking complaints over first two weeks data is : \", pearson_val_cases_19)\n",
    "print(\"Correlation: \", get_correlation(pearson_val_cases_19))\n",
    "print()\n",
    "\n",
    "pearson_val_cases_20 = get_pearson_correlation(cases_data, x_data_parking_complaints_data_20)\n",
    "print(\"Pearson Correlation Coefficient for Covid-19 deaths and X dataset 2020 parking complaints over first two weeks data is : \", pearson_val_cases_20)\n",
    "print(\"Correlation: \", get_correlation(pearson_val_cases_20))"
   ]
  },
  {
   "cell_type": "markdown",
   "metadata": {},
   "source": [
    "##### Conclusions\n",
    "We can see that the correlation between the cases and parking complaints are negative linear correlation. We can say that since the cases have been rising the people are staying home and have been decreasing since the lockdown is implemented."
   ]
  },
  {
   "cell_type": "markdown",
   "metadata": {},
   "source": [
    "## Inference 3"
   ]
  },
  {
   "cell_type": "markdown",
   "metadata": {},
   "source": [
    "##### Description\n",
    "Applying K-S test for pre-covid X data and covid X data. We will comapre the total service requests raised each day considering the absolute difference of the CDFs."
   ]
  },
  {
   "cell_type": "code",
   "execution_count": 94,
   "metadata": {},
   "outputs": [],
   "source": [
    "# Data for test\n",
    "service_requests_19 = X_19_df[\"Service Requests\"].tolist()\n",
    "service_requests_20 = X_20_df[\"Service Requests\"].tolist()"
   ]
  },
  {
   "cell_type": "code",
   "execution_count": 100,
   "metadata": {},
   "outputs": [
    {
     "name": "stdout",
     "output_type": "stream",
     "text": [
      "--Two Sample K-S Test--\n",
      "\n",
      "Max Diff for service requests is :  0.86\n",
      "Hypothesis result :  Reject Null Hypothesis\n"
     ]
    }
   ],
   "source": [
    "print(\"--Two Sample K-S Test--\\n\")\n",
    "two_sample_k_s_max_diff_cases = two_sample_k_s_test(service_requests_19, service_requests_20)\n",
    "print(\"Max Diff for service requests is : \", two_sample_k_s_max_diff_cases)\n",
    "print(\"Hypothesis result : \", k_s_test_hyp_orig(two_sample_k_s_max_diff_cases, 0.05))"
   ]
  },
  {
   "cell_type": "markdown",
   "metadata": {},
   "source": [
    "##### Conclusions\n",
    "We can see that the k-s test rejects the null hypothesis. We can say that the covid had a huge impact on service requests."
   ]
  }
 ],
 "metadata": {
  "kernelspec": {
   "display_name": "Python 3",
   "language": "python",
   "name": "python3"
  },
  "language_info": {
   "codemirror_mode": {
    "name": "ipython",
    "version": 3
   },
   "file_extension": ".py",
   "mimetype": "text/x-python",
   "name": "python",
   "nbconvert_exporter": "python",
   "pygments_lexer": "ipython3",
   "version": "3.7.4"
  }
 },
 "nbformat": 4,
 "nbformat_minor": 4
}
